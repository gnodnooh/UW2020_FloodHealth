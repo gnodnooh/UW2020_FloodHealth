{
 "cells": [
  {
   "cell_type": "markdown",
   "metadata": {},
   "source": [
    "## This example demonstrates how to calculate cateogical skill scores"
   ]
  },
  {
   "cell_type": "code",
   "execution_count": 15,
   "metadata": {},
   "outputs": [],
   "source": [
    "import numpy as np\n",
    "import metrics as mt"
   ]
  },
  {
   "cell_type": "markdown",
   "metadata": {},
   "source": [
    "Note that the original source of metrics.py is from Dr. David Gange's Hagelslag repository. Please visit https://github.com/djgagne/hagelslag for more details."
   ]
  },
  {
   "cell_type": "markdown",
   "metadata": {},
   "source": [
    "Let's start by generating random numbers for observed and simulated time-series"
   ]
  },
  {
   "cell_type": "code",
   "execution_count": 22,
   "metadata": {},
   "outputs": [
    {
     "name": "stdout",
     "output_type": "stream",
     "text": [
      "[ 3.57640092 77.57257041 95.18661865 45.9577896  46.25282237 62.13771461\n",
      " 64.32624302 23.08233012 62.48569818 18.48284859 66.67513881 69.47379239\n",
      " 26.78582261 65.55576983 29.99459891 21.4320009  56.15895902 71.51873546\n",
      " 91.47670816 53.94903032 95.18457999 57.89726644  5.45901318 61.21219954\n",
      " 97.65499551 38.82132907 78.83724623  4.52929234 22.72337846 64.4978725\n",
      " 30.14911683 39.92792443 37.93282544 37.21785182 50.02891452 16.30917826] [ 10.94197361 110.41849762 120.25423015  73.63691808  58.54196185\n",
      "  79.06874176  94.0685411   27.74616662  83.59516631  28.50051264\n",
      "  85.21675926 101.15528585  36.8604451   87.42034194  41.00075752\n",
      "  36.18142926  70.77589642  98.67784876 123.48376545  76.35028553\n",
      " 121.21247889  77.57312109   7.47567714  91.552191   125.32444502\n",
      "  66.39469579  97.08826882  11.91588528  42.23492286  80.21102506\n",
      "  51.44084528  51.80029655  56.10378429  59.12747438  75.98322032\n",
      "  33.09695369]\n"
     ]
    }
   ],
   "source": [
    "obs = np.random.uniform(0, 100, size=36)\n",
    "sim = obs*1.2 + np.random.uniform(0,20, size=36)\n",
    "print(obs, sim)"
   ]
  },
  {
   "cell_type": "markdown",
   "metadata": {},
   "source": [
    "### Binary contingency table"
   ]
  },
  {
   "cell_type": "markdown",
   "metadata": {},
   "source": [
    "The 2x2 contingency table is represented as:\n",
    "\n",
    "                    Observed\n",
    "                    Yes   No\n",
    "    Forecast Yes    a     b\n",
    "             No     c     d\n",
    "\n",
    "Let's make a 2x2 contingency table for the top 30% as a boundary."
   ]
  },
  {
   "cell_type": "code",
   "execution_count": 23,
   "metadata": {},
   "outputs": [
    {
     "name": "stdout",
     "output_type": "stream",
     "text": [
      "[[15.  0.]\n",
      " [10. 11.]]\n"
     ]
    }
   ],
   "source": [
    "table = mt.makeBinaryContTable(obs, sim, thrsd=0.7)\n",
    "ct = mt.ContingencyTable(table, table.sum())\n",
    "print(table)"
   ]
  },
  {
   "cell_type": "markdown",
   "metadata": {},
   "source": [
    "Calculate the following skill scores:\n",
    "- Frequency Bias (bias)\n",
    "- Doolittle (Heidke) Skill Score (hss)\n",
    "- Peirce (Hansen-Kuipers, True) Skill Score (pss)\n",
    "- Clayton Skill Score (css)"
   ]
  },
  {
   "cell_type": "code",
   "execution_count": 24,
   "metadata": {},
   "outputs": [
    {
     "name": "stdout",
     "output_type": "stream",
     "text": [
      "FOH is 0.600\n",
      "HSS is 0.478\n",
      "PSS is 0.600\n",
      "CSS is 0.524\n"
     ]
    }
   ],
   "source": [
    "print('FOH is %.3f' % ct.bias())\n",
    "print('HSS is %.3f' % ct.hss())\n",
    "print('PSS is %.3f' % ct.pss())\n",
    "print('CSS is %.3f' % ct.css())"
   ]
  },
  {
   "cell_type": "markdown",
   "metadata": {},
   "source": [
    "### Multiclass contingency table"
   ]
  },
  {
   "cell_type": "markdown",
   "metadata": {},
   "source": [
    "The example of 3x3 contingency table is:\n",
    "\n",
    "                    Observed\n",
    "                  A    B    C\n",
    "              A   50   91   71\n",
    "    Forecast  B   47   2364 170\n",
    "              C   54   205  3288\n",
    "\n",
    "Let's make a 3x3 equal contingency table (terciles; Above-normal (top 33.3%), Near-normal (middle 33.3%), Below-normal (bottom 33.3%))."
   ]
  },
  {
   "cell_type": "code",
   "execution_count": 25,
   "metadata": {},
   "outputs": [
    {
     "name": "stdout",
     "output_type": "stream",
     "text": [
      "[[ 8.  0.  0.]\n",
      " [ 4.  3.  0.]\n",
      " [ 0.  9. 12.]]\n"
     ]
    }
   ],
   "source": [
    "table = mt.makeMultiContTable(obs, sim, thrsd = [1/3, 2/3])\n",
    "mct = mt.MulticlassContingencyTable(table, n_classes=3)\n",
    "print(table)"
   ]
  },
  {
   "cell_type": "markdown",
   "metadata": {},
   "source": [
    "Calculate the following skill scores:\n",
    "- Heidke Skill Score (HSS) Range: -inf < HSS ≤ 1\n",
    "- Peirce Skill Score (PSS) Range: -1 ≤ PSS ≤ 1\n",
    "- Gerrity Skill Score (GSS) Range: -1 ≤ GSS ≤ 1"
   ]
  },
  {
   "cell_type": "code",
   "execution_count": 26,
   "metadata": {},
   "outputs": [
    {
     "name": "stdout",
     "output_type": "stream",
     "text": [
      "HSS is 0.458\n",
      "PSS is 0.458\n",
      "GSS is 0.646\n"
     ]
    }
   ],
   "source": [
    "print('HSS is %.3f' % mct.heidke_skill_score())\n",
    "print('PSS is %.3f' % mct.peirce_skill_score())\n",
    "print('GSS is %.3f' % mct.gerrity_skill_score())"
   ]
  },
  {
   "cell_type": "markdown",
   "metadata": {},
   "source": [
    "We can also define a contingency table for extreme events (ranges). For example, let's define it for top 20% and bottom 20%."
   ]
  },
  {
   "cell_type": "code",
   "execution_count": 27,
   "metadata": {},
   "outputs": [
    {
     "name": "stdout",
     "output_type": "stream",
     "text": [
      "[[ 3.  0.  0.]\n",
      " [ 4.  9.  0.]\n",
      " [ 0. 13.  7.]]\n",
      "HSS is 0.279\n",
      "PSS is 0.332\n",
      "GSS is 0.490\n"
     ]
    }
   ],
   "source": [
    "table = mt.makeMultiContTable(obs, sim, thrsd = [1/5, 4/5])\n",
    "mct = mt.MulticlassContingencyTable(table, n_classes=3)\n",
    "print(table)\n",
    "print('HSS is %.3f' % mct.heidke_skill_score())\n",
    "print('PSS is %.3f' % mct.peirce_skill_score())\n",
    "print('GSS is %.3f' % mct.gerrity_skill_score())"
   ]
  },
  {
   "cell_type": "code",
   "execution_count": null,
   "metadata": {},
   "outputs": [],
   "source": [
    "from qutip.ipynbtools import version_table\n",
    "\n",
    "version_table()"
   ]
  }
 ],
 "metadata": {
  "kernelspec": {
   "display_name": "Python 3",
   "language": "python",
   "name": "python3"
  },
  "language_info": {
   "codemirror_mode": {
    "name": "ipython",
    "version": 3
   },
   "file_extension": ".py",
   "mimetype": "text/x-python",
   "name": "python",
   "nbconvert_exporter": "python",
   "pygments_lexer": "ipython3",
   "version": "3.6.7"
  }
 },
 "nbformat": 4,
 "nbformat_minor": 2
}
