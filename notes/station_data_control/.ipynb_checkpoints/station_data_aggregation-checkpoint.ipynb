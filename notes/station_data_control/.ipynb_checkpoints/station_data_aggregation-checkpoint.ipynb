{
 "cells": [
  {
   "cell_type": "markdown",
   "metadata": {},
   "source": [
    "station_data_aggregation\n",
    "---\n",
    "This script reads information of stations and create a shapefile.\\\n",
    "Donghoon Lee @ Oct-7-2019\n"
   ]
  },
  {
   "cell_type": "code",
   "execution_count": 1,
   "metadata": {},
   "outputs": [],
   "source": [
    "import numpy as np\n",
    "import pandas as pd\n",
    "import geopandas as gpd\n",
    "from shapely.geometry import Point"
   ]
  },
  {
   "cell_type": "code",
   "execution_count": 2,
   "metadata": {},
   "outputs": [
    {
     "name": "stdout",
     "output_type": "stream",
     "text": [
      "./stations.shp is saved.\n"
     ]
    }
   ],
   "source": [
    "filn_in = './stations.xlsx'\n",
    "filn_out = './stations.shp'\n",
    "\n",
    "# Read information of stations\n",
    "df = pd.read_excel(filn_in)\n",
    "# Trim columns\n",
    "df = df[df.columns[2:]]\n",
    "# Remain available stations\n",
    "df = df[~df['CODIGO'].isna()]\n",
    "\n",
    "# Create a shapefile of stations\n",
    "df[['Lon','Lat']] = df[['Lon','Lat']].apply(pd.to_numeric)\n",
    "df['Coordinates'] = list(zip(df.Lon, df.Lat))           # Coordinates\n",
    "df['Coordinates'] = df['Coordinates'].apply(Point)      # tuples to Shapely's Point\n",
    "crs = {'init': 'epsg:4326'}\n",
    "gdf = gpd.GeoDataFrame(df, crs=crs, geometry='Coordinates')\n",
    "gdf.to_file(filn_out)\n",
    "print('%s is saved.' % filn_out)"
   ]
  },
  {
   "cell_type": "code",
   "execution_count": null,
   "metadata": {},
   "outputs": [],
   "source": []
  }
 ],
 "metadata": {
  "kernelspec": {
   "display_name": "Python 3",
   "language": "python",
   "name": "python3"
  },
  "language_info": {
   "codemirror_mode": {
    "name": "ipython",
    "version": 3
   },
   "file_extension": ".py",
   "mimetype": "text/x-python",
   "name": "python",
   "nbconvert_exporter": "python",
   "pygments_lexer": "ipython3",
   "version": "3.6.7"
  }
 },
 "nbformat": 4,
 "nbformat_minor": 2
}
