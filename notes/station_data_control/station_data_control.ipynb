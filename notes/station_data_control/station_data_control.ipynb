{
 "cells": [
  {
   "cell_type": "markdown",
   "metadata": {},
   "source": [
    "station_data_aggregation\n",
    "---\n",
    "This script reads information of stations and create a shapefile.\\\n",
    "Donghoon Lee @ Oct-7-2019\n"
   ]
  },
  {
   "cell_type": "code",
   "execution_count": 1,
   "metadata": {},
   "outputs": [],
   "source": [
    "import numpy as np\n",
    "import pandas as pd\n",
    "import geopandas as gpd\n",
    "from shapely.geometry import Point"
   ]
  },
  {
   "cell_type": "code",
   "execution_count": 2,
   "metadata": {},
   "outputs": [
    {
     "name": "stdout",
     "output_type": "stream",
     "text": [
      "./stations.shp is saved.\n"
     ]
    }
   ],
   "source": [
    "filn_in = './stations.xlsx'\n",
    "filn_out = './stations.shp'\n",
    "\n",
    "# Read information of stations\n",
    "df = pd.read_excel(filn_in)\n",
    "# Trim columns\n",
    "df = df[df.columns[2:]]\n",
    "# Remain available stations\n",
    "df = df[~df['CODIGO'].isna()]\n",
    "\n",
    "# Create a shapefile of stations\n",
    "df[['Lon','Lat']] = df[['Lon','Lat']].apply(pd.to_numeric)\n",
    "df['Coordinates'] = list(zip(df.Lon, df.Lat))           # Coordinates\n",
    "df['Coordinates'] = df['Coordinates'].apply(Point)      # tuples to Shapely's Point\n",
    "crs = {'init': 'epsg:4326'}\n",
    "gdf = gpd.GeoDataFrame(df, crs=crs, geometry='Coordinates')\n",
    "gdf.to_file(filn_out)\n",
    "print('%s is saved.' % filn_out)"
   ]
  },
  {
   "cell_type": "code",
   "execution_count": 3,
   "metadata": {},
   "outputs": [
    {
     "data": {
      "text/html": [
       "<div>\n",
       "<style scoped>\n",
       "    .dataframe tbody tr th:only-of-type {\n",
       "        vertical-align: middle;\n",
       "    }\n",
       "\n",
       "    .dataframe tbody tr th {\n",
       "        vertical-align: top;\n",
       "    }\n",
       "\n",
       "    .dataframe thead th {\n",
       "        text-align: right;\n",
       "    }\n",
       "</style>\n",
       "<table border=\"1\" class=\"dataframe\">\n",
       "  <thead>\n",
       "    <tr style=\"text-align: right;\">\n",
       "      <th></th>\n",
       "      <th>Region</th>\n",
       "      <th>Type</th>\n",
       "      <th>CODIGO</th>\n",
       "      <th>Name</th>\n",
       "      <th>Lat</th>\n",
       "      <th>Lon</th>\n",
       "      <th>Altitude</th>\n",
       "      <th>Monitoring</th>\n",
       "      <th>Note</th>\n",
       "      <th>Same station</th>\n",
       "      <th>Coordinates</th>\n",
       "    </tr>\n",
       "  </thead>\n",
       "  <tbody>\n",
       "    <tr>\n",
       "      <td>0</td>\n",
       "      <td>Piura</td>\n",
       "      <td>Meteorology</td>\n",
       "      <td>104016</td>\n",
       "      <td>LANCONES</td>\n",
       "      <td>-4.642880</td>\n",
       "      <td>-80.547170</td>\n",
       "      <td>133.0</td>\n",
       "      <td>Conventional</td>\n",
       "      <td>Out of the basin</td>\n",
       "      <td>472FD6CE</td>\n",
       "      <td>POINT (-80.54716999999999 -4.64288)</td>\n",
       "    </tr>\n",
       "    <tr>\n",
       "      <td>1</td>\n",
       "      <td>Piura</td>\n",
       "      <td>Meteorology</td>\n",
       "      <td>472FD6CE</td>\n",
       "      <td>LANCONES</td>\n",
       "      <td>-4.642878</td>\n",
       "      <td>-80.547175</td>\n",
       "      <td>133.0</td>\n",
       "      <td>Automatic</td>\n",
       "      <td>Out of the basin</td>\n",
       "      <td>104016</td>\n",
       "      <td>POINT (-80.547175 -4.6428778)</td>\n",
       "    </tr>\n",
       "    <tr>\n",
       "      <td>2</td>\n",
       "      <td>Piura</td>\n",
       "      <td>Meteorology</td>\n",
       "      <td>105105</td>\n",
       "      <td>CHUSIS</td>\n",
       "      <td>-5.527560</td>\n",
       "      <td>-80.812750</td>\n",
       "      <td>8.0</td>\n",
       "      <td>Conventional</td>\n",
       "      <td>In the basin</td>\n",
       "      <td>NaN</td>\n",
       "      <td>POINT (-80.81274999999999 -5.52756)</td>\n",
       "    </tr>\n",
       "    <tr>\n",
       "      <td>3</td>\n",
       "      <td>Piura</td>\n",
       "      <td>Meteorology</td>\n",
       "      <td>105012</td>\n",
       "      <td>BERNAL</td>\n",
       "      <td>-5.454500</td>\n",
       "      <td>-80.742620</td>\n",
       "      <td>14.0</td>\n",
       "      <td>Conventional</td>\n",
       "      <td>In the basin</td>\n",
       "      <td>NaN</td>\n",
       "      <td>POINT (-80.74262 -5.4545)</td>\n",
       "    </tr>\n",
       "    <tr>\n",
       "      <td>4</td>\n",
       "      <td>Piura</td>\n",
       "      <td>Meteorology</td>\n",
       "      <td>104090</td>\n",
       "      <td>LA ESPERANZA</td>\n",
       "      <td>-4.921140</td>\n",
       "      <td>-81.059690</td>\n",
       "      <td>7.0</td>\n",
       "      <td>Conventional</td>\n",
       "      <td>Out of the basin</td>\n",
       "      <td>NaN</td>\n",
       "      <td>POINT (-81.05969 -4.92114)</td>\n",
       "    </tr>\n",
       "  </tbody>\n",
       "</table>\n",
       "</div>"
      ],
      "text/plain": [
       "  Region         Type    CODIGO          Name       Lat        Lon  Altitude  \\\n",
       "0  Piura  Meteorology    104016      LANCONES -4.642880 -80.547170     133.0   \n",
       "1  Piura  Meteorology  472FD6CE      LANCONES -4.642878 -80.547175     133.0   \n",
       "2  Piura  Meteorology    105105        CHUSIS -5.527560 -80.812750       8.0   \n",
       "3  Piura  Meteorology    105012        BERNAL -5.454500 -80.742620      14.0   \n",
       "4  Piura  Meteorology    104090  LA ESPERANZA -4.921140 -81.059690       7.0   \n",
       "\n",
       "     Monitoring              Note Same station  \\\n",
       "0  Conventional  Out of the basin     472FD6CE   \n",
       "1     Automatic  Out of the basin       104016   \n",
       "2  Conventional      In the basin          NaN   \n",
       "3  Conventional      In the basin          NaN   \n",
       "4  Conventional  Out of the basin          NaN   \n",
       "\n",
       "                           Coordinates  \n",
       "0  POINT (-80.54716999999999 -4.64288)  \n",
       "1        POINT (-80.547175 -4.6428778)  \n",
       "2  POINT (-80.81274999999999 -5.52756)  \n",
       "3            POINT (-80.74262 -5.4545)  \n",
       "4           POINT (-81.05969 -4.92114)  "
      ]
     },
     "execution_count": 3,
     "metadata": {},
     "output_type": "execute_result"
    }
   ],
   "source": [
    "gdf.head()\n"
   ]
  },
  {
   "cell_type": "code",
   "execution_count": 4,
   "metadata": {},
   "outputs": [
    {
     "data": {
      "application/vnd.jupyter.widget-view+json": {
       "model_id": "0588df2dfd0447d4ba18f5d3388c7b35",
       "version_major": 2,
       "version_minor": 0
      },
      "text/plain": [
       "Map(basemap={'url': 'http://{s}.tile.openstreetmap.se/hydda/full/{z}/{x}/{y}.png', 'max_zoom': 18, 'attributio…"
      ]
     },
     "metadata": {},
     "output_type": "display_data"
    }
   ],
   "source": [
    "from ipyleaflet import *\n",
    "m = Map(center=(52, 10), zoom=8, basemap=basemaps.Hydda.Full)\n",
    "m"
   ]
  },
  {
   "cell_type": "code",
   "execution_count": 5,
   "metadata": {},
   "outputs": [],
   "source": [
    "strata_all = basemap_to_tiles(basemaps.Strava.All)\n",
    "m.add_layer(strata_all)"
   ]
  },
  {
   "cell_type": "code",
   "execution_count": 6,
   "metadata": {},
   "outputs": [
    {
     "data": {
      "application/vnd.jupyter.widget-view+json": {
       "model_id": "75433a113f794582a011404d0d31de6f",
       "version_major": 2,
       "version_minor": 0
      },
      "text/plain": [
       "Label(value='')"
      ]
     },
     "metadata": {},
     "output_type": "display_data"
    }
   ],
   "source": [
    "from ipywidgets import Label\n",
    "\n",
    "label = Label()\n",
    "display(label)\n",
    "\n",
    "def handle_interaction(**kwargs):\n",
    "    if kwargs.get('type') == 'mousemove':\n",
    "        label.value = str(kwargs.get('coordinates'))\n",
    "\n",
    "m.on_interaction(handle_interaction)"
   ]
  },
  {
   "cell_type": "code",
   "execution_count": 7,
   "metadata": {},
   "outputs": [],
   "source": [
    "strata_water = basemap_to_tiles(basemaps.Strava.Water)\n",
    "m.substitute_layer(strata_all, strata_water)"
   ]
  },
  {
   "cell_type": "code",
   "execution_count": 9,
   "metadata": {},
   "outputs": [],
   "source": [
    "# Adding an overlay layer\n",
    "import json\n",
    "\n",
    "with open('./europe_110.geo.json') as f:\n",
    "    data = json.load(f)\n",
    "for feature in data['features']:\n",
    "    feature['properties']['style'] = {\n",
    "        'color': 'grey',\n",
    "        'weight': 1,\n",
    "        'fillColor': 'grey',\n",
    "        'fillOpacity': 0.5\n",
    "    }\n",
    "geo = GeoJSON(data=data, hover_style={'fillColor': 'red'}, name='Countries')\n",
    "m.add_layer(geo)"
   ]
  },
  {
   "cell_type": "code",
   "execution_count": 10,
   "metadata": {},
   "outputs": [],
   "source": [
    "# Adding the control\n",
    "m.add_control(LayersControl())"
   ]
  },
  {
   "cell_type": "code",
   "execution_count": 11,
   "metadata": {},
   "outputs": [
    {
     "data": {
      "application/vnd.jupyter.widget-view+json": {
       "model_id": "b7ec5bd8f7ee466782d6806a7b276e46",
       "version_major": 2,
       "version_minor": 0
      },
      "text/plain": [
       "HBox(children=(Map(basemap={'url': 'http://{s}.tile.openstreetmap.se/hydda/full/{z}/{x}/{y}.png', 'max_zoom': …"
      ]
     },
     "metadata": {},
     "output_type": "display_data"
    }
   ],
   "source": [
    "# Creating two maps side by side\n",
    "import ipywidgets\n",
    " \n",
    "ipywidgets.HBox([m, Map(center=[43.6, 1.44], zoom=10)])"
   ]
  },
  {
   "cell_type": "code",
   "execution_count": null,
   "metadata": {},
   "outputs": [],
   "source": []
  }
 ],
 "metadata": {
  "kernelspec": {
   "display_name": "Python 3",
   "language": "python",
   "name": "python3"
  },
  "language_info": {
   "codemirror_mode": {
    "name": "ipython",
    "version": 3
   },
   "file_extension": ".py",
   "mimetype": "text/x-python",
   "name": "python",
   "nbconvert_exporter": "python",
   "pygments_lexer": "ipython3",
   "version": "3.6.7"
  }
 },
 "nbformat": 4,
 "nbformat_minor": 2
}
